{
 "cells": [
  {
   "cell_type": "code",
   "execution_count": 7,
   "metadata": {
    "collapsed": true,
    "pycharm": {
     "name": "#%%\n"
    }
   },
   "outputs": [],
   "source": [
    "import numpy as np\n",
    "from sklearn.datasets import make_classification\n",
    "from sklearn.tree import DecisionTreeClassifier\n",
    "from sklearn.metrics import accuracy_score\n",
    "from sklearn.pipeline import Pipeline\n",
    "\n",
    "from frouros.unsupervised.statistical_test import KSTest"
   ]
  },
  {
   "cell_type": "markdown",
   "source": [
    "## Unsupervised - Pipeline with univariate detector"
   ],
   "metadata": {
    "collapsed": false,
    "pycharm": {
     "name": "#%% md\n"
    }
   }
  },
  {
   "cell_type": "markdown",
   "source": [
    "Unsupervised univariate detectors can also be used in a scikit-learn Pipeline object. The following example shows the use of the univariate detectors with a synthetic dataset composed by 3 informative features and 2 non-informative/useless features for the model."
   ],
   "metadata": {
    "collapsed": false,
    "pycharm": {
     "name": "#%% md\n"
    }
   }
  },
  {
   "cell_type": "code",
   "execution_count": 2,
   "outputs": [],
   "source": [
    "np.random.seed(seed=31)\n",
    "\n",
    "X, y = make_classification(n_samples=10000,\n",
    "                           n_features=5,\n",
    "                           n_informative=3,\n",
    "                           n_redundant=0,\n",
    "                           n_repeated=0,\n",
    "                           n_classes=2,\n",
    "                           scale=[10, 0.1, 5, 15, 1],\n",
    "                           shuffle=False,  # False because it also shuffles features order (we dont want features to be shuffled)\n",
    "                           random_state=31,)"
   ],
   "metadata": {
    "collapsed": false,
    "pycharm": {
     "name": "#%%\n"
    }
   }
  },
  {
   "cell_type": "markdown",
   "source": [
    "Random shuffle the data rows and split data in train (70%) and test (30%)."
   ],
   "metadata": {
    "collapsed": false,
    "pycharm": {
     "name": "#%% md\n"
    }
   }
  },
  {
   "cell_type": "code",
   "execution_count": 3,
   "outputs": [],
   "source": [
    "idxs = np.arange(X.shape[0])\n",
    "np.random.shuffle(idxs)\n",
    "X, y = X[idxs], y[idxs]\n",
    "\n",
    "idx_split = int(X.shape[0] * 0.7)\n",
    "X_train, y_train, X_test, y_test = X[:idx_split], y[:idx_split], X[idx_split:], y[idx_split:]"
   ],
   "metadata": {
    "collapsed": false,
    "pycharm": {
     "name": "#%%\n"
    }
   }
  },
  {
   "cell_type": "markdown",
   "source": [
    "The significance level will be $\\alpha = 0.01$."
   ],
   "metadata": {
    "collapsed": false,
    "pycharm": {
     "name": "#%% md\n"
    }
   }
  },
  {
   "cell_type": "code",
   "execution_count": 4,
   "outputs": [],
   "source": [
    "alpha = 0.01"
   ],
   "metadata": {
    "collapsed": false,
    "pycharm": {
     "name": "#%%\n"
    }
   }
  },
  {
   "cell_type": "markdown",
   "source": [
    "A detector can be easily added to a Pipeline object. The only requirement is that it needs to be defined before the final estimator."
   ],
   "metadata": {
    "collapsed": false,
    "pycharm": {
     "name": "#%% md\n"
    }
   }
  },
  {
   "cell_type": "code",
   "execution_count": 5,
   "outputs": [
    {
     "data": {
      "text/plain": "Pipeline(steps=[('detector', KSTest()),\n                ('model', DecisionTreeClassifier(random_state=31))])",
      "text/html": "<style>#sk-container-id-1 {color: black;background-color: white;}#sk-container-id-1 pre{padding: 0;}#sk-container-id-1 div.sk-toggleable {background-color: white;}#sk-container-id-1 label.sk-toggleable__label {cursor: pointer;display: block;width: 100%;margin-bottom: 0;padding: 0.3em;box-sizing: border-box;text-align: center;}#sk-container-id-1 label.sk-toggleable__label-arrow:before {content: \"▸\";float: left;margin-right: 0.25em;color: #696969;}#sk-container-id-1 label.sk-toggleable__label-arrow:hover:before {color: black;}#sk-container-id-1 div.sk-estimator:hover label.sk-toggleable__label-arrow:before {color: black;}#sk-container-id-1 div.sk-toggleable__content {max-height: 0;max-width: 0;overflow: hidden;text-align: left;background-color: #f0f8ff;}#sk-container-id-1 div.sk-toggleable__content pre {margin: 0.2em;color: black;border-radius: 0.25em;background-color: #f0f8ff;}#sk-container-id-1 input.sk-toggleable__control:checked~div.sk-toggleable__content {max-height: 200px;max-width: 100%;overflow: auto;}#sk-container-id-1 input.sk-toggleable__control:checked~label.sk-toggleable__label-arrow:before {content: \"▾\";}#sk-container-id-1 div.sk-estimator input.sk-toggleable__control:checked~label.sk-toggleable__label {background-color: #d4ebff;}#sk-container-id-1 div.sk-label input.sk-toggleable__control:checked~label.sk-toggleable__label {background-color: #d4ebff;}#sk-container-id-1 input.sk-hidden--visually {border: 0;clip: rect(1px 1px 1px 1px);clip: rect(1px, 1px, 1px, 1px);height: 1px;margin: -1px;overflow: hidden;padding: 0;position: absolute;width: 1px;}#sk-container-id-1 div.sk-estimator {font-family: monospace;background-color: #f0f8ff;border: 1px dotted black;border-radius: 0.25em;box-sizing: border-box;margin-bottom: 0.5em;}#sk-container-id-1 div.sk-estimator:hover {background-color: #d4ebff;}#sk-container-id-1 div.sk-parallel-item::after {content: \"\";width: 100%;border-bottom: 1px solid gray;flex-grow: 1;}#sk-container-id-1 div.sk-label:hover label.sk-toggleable__label {background-color: #d4ebff;}#sk-container-id-1 div.sk-serial::before {content: \"\";position: absolute;border-left: 1px solid gray;box-sizing: border-box;top: 0;bottom: 0;left: 50%;z-index: 0;}#sk-container-id-1 div.sk-serial {display: flex;flex-direction: column;align-items: center;background-color: white;padding-right: 0.2em;padding-left: 0.2em;position: relative;}#sk-container-id-1 div.sk-item {position: relative;z-index: 1;}#sk-container-id-1 div.sk-parallel {display: flex;align-items: stretch;justify-content: center;background-color: white;position: relative;}#sk-container-id-1 div.sk-item::before, #sk-container-id-1 div.sk-parallel-item::before {content: \"\";position: absolute;border-left: 1px solid gray;box-sizing: border-box;top: 0;bottom: 0;left: 50%;z-index: -1;}#sk-container-id-1 div.sk-parallel-item {display: flex;flex-direction: column;z-index: 1;position: relative;background-color: white;}#sk-container-id-1 div.sk-parallel-item:first-child::after {align-self: flex-end;width: 50%;}#sk-container-id-1 div.sk-parallel-item:last-child::after {align-self: flex-start;width: 50%;}#sk-container-id-1 div.sk-parallel-item:only-child::after {width: 0;}#sk-container-id-1 div.sk-dashed-wrapped {border: 1px dashed gray;margin: 0 0.4em 0.5em 0.4em;box-sizing: border-box;padding-bottom: 0.4em;background-color: white;}#sk-container-id-1 div.sk-label label {font-family: monospace;font-weight: bold;display: inline-block;line-height: 1.2em;}#sk-container-id-1 div.sk-label-container {text-align: center;}#sk-container-id-1 div.sk-container {/* jupyter's `normalize.less` sets `[hidden] { display: none; }` but bootstrap.min.css set `[hidden] { display: none !important; }` so we also need the `!important` here to be able to override the default hidden behavior on the sphinx rendered scikit-learn.org. See: https://github.com/scikit-learn/scikit-learn/issues/21755 */display: inline-block !important;position: relative;}#sk-container-id-1 div.sk-text-repr-fallback {display: none;}</style><div id=\"sk-container-id-1\" class=\"sk-top-container\"><div class=\"sk-text-repr-fallback\"><pre>Pipeline(steps=[(&#x27;detector&#x27;, KSTest()),\n                (&#x27;model&#x27;, DecisionTreeClassifier(random_state=31))])</pre><b>In a Jupyter environment, please rerun this cell to show the HTML representation or trust the notebook. <br />On GitHub, the HTML representation is unable to render, please try loading this page with nbviewer.org.</b></div><div class=\"sk-container\" hidden><div class=\"sk-item sk-dashed-wrapped\"><div class=\"sk-label-container\"><div class=\"sk-label sk-toggleable\"><input class=\"sk-toggleable__control sk-hidden--visually\" id=\"sk-estimator-id-1\" type=\"checkbox\" ><label for=\"sk-estimator-id-1\" class=\"sk-toggleable__label sk-toggleable__label-arrow\">Pipeline</label><div class=\"sk-toggleable__content\"><pre>Pipeline(steps=[(&#x27;detector&#x27;, KSTest()),\n                (&#x27;model&#x27;, DecisionTreeClassifier(random_state=31))])</pre></div></div></div><div class=\"sk-serial\"><div class=\"sk-item\"><div class=\"sk-estimator sk-toggleable\"><input class=\"sk-toggleable__control sk-hidden--visually\" id=\"sk-estimator-id-2\" type=\"checkbox\" ><label for=\"sk-estimator-id-2\" class=\"sk-toggleable__label sk-toggleable__label-arrow\">KSTest</label><div class=\"sk-toggleable__content\"><pre>KSTest()</pre></div></div></div><div class=\"sk-item\"><div class=\"sk-estimator sk-toggleable\"><input class=\"sk-toggleable__control sk-hidden--visually\" id=\"sk-estimator-id-3\" type=\"checkbox\" ><label for=\"sk-estimator-id-3\" class=\"sk-toggleable__label sk-toggleable__label-arrow\">DecisionTreeClassifier</label><div class=\"sk-toggleable__content\"><pre>DecisionTreeClassifier(random_state=31)</pre></div></div></div></div></div></div></div>"
     },
     "execution_count": 5,
     "metadata": {},
     "output_type": "execute_result"
    }
   ],
   "source": [
    "pipeline = Pipeline(steps=[(\"detector\", KSTest()),\n",
    "                           (\"model\", DecisionTreeClassifier(random_state=31))])\n",
    "pipeline.fit(X=X_train, y=y_train)"
   ],
   "metadata": {
    "collapsed": false,
    "pycharm": {
     "name": "#%%\n"
    }
   }
  },
  {
   "cell_type": "markdown",
   "source": [
    "In addition to obtaining the predictions for the test data by calling the predict method, the detector compares the reference data with test data to determine if drift is occurring."
   ],
   "metadata": {
    "collapsed": false,
    "pycharm": {
     "name": "#%% md\n"
    }
   }
  },
  {
   "cell_type": "code",
   "execution_count": 6,
   "outputs": [
    {
     "name": "stdout",
     "output_type": "stream",
     "text": [
      "Feature 1:\n",
      "\tp-value: 0.1606\n",
      "\tNo data drift detected\n",
      "\n",
      "Feature 2:\n",
      "\tp-value: 0.5984\n",
      "\tNo data drift detected\n",
      "\n",
      "Feature 3:\n",
      "\tp-value: 0.0637\n",
      "\tNo data drift detected\n",
      "\n",
      "Feature 4:\n",
      "\tp-value: 0.2359\n",
      "\tNo data drift detected\n",
      "\n",
      "Feature 5:\n",
      "\tp-value: 0.8064\n",
      "\tNo data drift detected\n",
      "\n",
      "Accuracy: 0.9277\n"
     ]
    }
   ],
   "source": [
    "y_pred = pipeline.predict(X=X_test)\n",
    "for i, feature_test in enumerate(pipeline[\"detector\"].test, start=1):\n",
    "    print(f\"Feature {i}:\")\n",
    "    p_value = feature_test.p_value\n",
    "    print(f\"\\tp-value: {round(p_value, 4)}\")\n",
    "    if p_value < alpha:\n",
    "        print(\"\\tData drift detected\\n\")\n",
    "    else:\n",
    "        print(\"\\tNo data drift detected\\n\")\n",
    "print(f\"Accuracy: {round(accuracy_score(y_test, y_pred), 4)}\")"
   ],
   "metadata": {
    "collapsed": false,
    "pycharm": {
     "name": "#%%\n"
    }
   }
  },
  {
   "cell_type": "markdown",
   "source": [
    "### Concept drift"
   ],
   "metadata": {
    "collapsed": false,
    "pycharm": {
     "name": "#%% md\n"
    }
   }
  },
  {
   "cell_type": "markdown",
   "source": [
    "To simulate how data drift can end up producing concept drift, we apply some noise to two of the three relevant features, as shown below:"
   ],
   "metadata": {
    "collapsed": false,
    "pycharm": {
     "name": "#%% md\n"
    }
   }
  },
  {
   "cell_type": "code",
   "execution_count": 7,
   "outputs": [
    {
     "name": "stdout",
     "output_type": "stream",
     "text": [
      "Feature 1:\n",
      "\tp-value: 0.0\n",
      "\tData drift detected\n",
      "\n",
      "Feature 2:\n",
      "\tp-value: 0.0\n",
      "\tData drift detected\n",
      "\n",
      "Feature 3:\n",
      "\tp-value: 0.0637\n",
      "\tNo data drift detected\n",
      "\n",
      "Feature 4:\n",
      "\tp-value: 0.2359\n",
      "\tNo data drift detected\n",
      "\n",
      "Feature 5:\n",
      "\tp-value: 0.8064\n",
      "\tNo data drift detected\n",
      "\n",
      "Accuracy: 0.6353\n"
     ]
    }
   ],
   "source": [
    "X_test_noise = X_test.copy()\n",
    "X_test_noise[:, :2] = X_test_noise[:, :2] + np.random.normal(loc=0, scale=X_test_noise[:, :2].std(axis=0), size=X_test_noise[:, :2].shape)  # Add noise to features 1 and 2 (both informative)\n",
    "y_pred = pipeline.predict(X=X_test_noise)\n",
    "for i, feature_test in enumerate(pipeline[\"detector\"].test, start=1):\n",
    "    print(f\"Feature {i}:\")\n",
    "    p_value = feature_test.p_value\n",
    "    print(f\"\\tp-value: {round(p_value, 4)}\")\n",
    "    if p_value < alpha:\n",
    "        print(\"\\tData drift detected\\n\")\n",
    "    else:\n",
    "        print(\"\\tNo data drift detected\\n\")\n",
    "print(f\"Accuracy: {round(accuracy_score(y_test, y_pred), 4)}\")"
   ],
   "metadata": {
    "collapsed": false,
    "pycharm": {
     "name": "#%%\n"
    }
   }
  },
  {
   "cell_type": "markdown",
   "source": [
    "Data drift has been detected for the two of the three informative features. This has lead to a significantly drop in the accuracy, thus producing concept drift."
   ],
   "metadata": {
    "collapsed": false,
    "pycharm": {
     "name": "#%% md\n"
    }
   }
  },
  {
   "cell_type": "markdown",
   "source": [
    "### Virtual drift"
   ],
   "metadata": {
    "collapsed": false,
    "pycharm": {
     "name": "#%% md\n"
    }
   }
  },
  {
   "cell_type": "markdown",
   "source": [
    "On the other hand, if we apply some noise to the non-informative features (they should not be important for the model) we expect to see data drift in these features, but model's performance should not decrease significantly, meaning that virtual drift is occurring."
   ],
   "metadata": {
    "collapsed": false,
    "pycharm": {
     "name": "#%% md\n"
    }
   }
  },
  {
   "cell_type": "code",
   "execution_count": 8,
   "outputs": [
    {
     "name": "stdout",
     "output_type": "stream",
     "text": [
      "Feature 1:\n",
      "\tp-value: 0.1606\n",
      "\tNo data drift detected\n",
      "\n",
      "Feature 2:\n",
      "\tp-value: 0.5984\n",
      "\tNo data drift detected\n",
      "\n",
      "Feature 3:\n",
      "\tp-value: 0.0637\n",
      "\tNo data drift detected\n",
      "\n",
      "Feature 4:\n",
      "\tp-value: 0.0\n",
      "\tData drift detected\n",
      "\n",
      "Feature 5:\n",
      "\tp-value: 0.0\n",
      "\tData drift detected\n",
      "\n",
      "Accuracy: 0.928\n"
     ]
    }
   ],
   "source": [
    "X_test_noise = X_test.copy()\n",
    "X_test_noise[:, 3:] = X_test_noise[:, 3:] + np.random.normal(loc=0, scale=X_test_noise[:, 3:].std(axis=0), size=X_test_noise[:, 3:].shape)  # Add noise to features 4 and 5 (both non-informative)\n",
    "y_pred = pipeline.predict(X=X_test_noise)\n",
    "for i, feature_test in enumerate(pipeline[\"detector\"].test, start=1):\n",
    "    print(f\"Feature {i}:\")\n",
    "    p_value = feature_test.p_value\n",
    "    print(f\"\\tp-value: {round(p_value, 4)}\")\n",
    "    if p_value < alpha:\n",
    "        print(\"\\tData drift detected\\n\")\n",
    "    else:\n",
    "        print(\"\\tNo data drift detected\\n\")\n",
    "print(f\"Accuracy: {round(accuracy_score(y_test, y_pred), 4)}\")"
   ],
   "metadata": {
    "collapsed": false,
    "pycharm": {
     "name": "#%%\n"
    }
   }
  },
  {
   "cell_type": "markdown",
   "source": [
    "We can see how data drift has occurred in the two non-informative features, making the performance of the model unaffected, so there is virtual drift."
   ],
   "metadata": {
    "collapsed": false,
    "pycharm": {
     "name": "#%% md\n"
    }
   }
  }
 ],
 "metadata": {
  "kernelspec": {
   "display_name": "Python 3",
   "language": "python",
   "name": "python3"
  },
  "language_info": {
   "codemirror_mode": {
    "name": "ipython",
    "version": 2
   },
   "file_extension": ".py",
   "mimetype": "text/x-python",
   "name": "python",
   "nbconvert_exporter": "python",
   "pygments_lexer": "ipython2",
   "version": "2.7.6"
  }
 },
 "nbformat": 4,
 "nbformat_minor": 0
}
