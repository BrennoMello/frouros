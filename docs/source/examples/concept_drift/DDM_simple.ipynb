{
 "cells": [
  {
   "cell_type": "code",
   "execution_count": 51,
   "metadata": {
    "collapsed": true,
    "pycharm": {
     "name": "#%%\n"
    }
   },
   "outputs": [],
   "source": [
    "import numpy as np\n",
    "from sklearn.linear_model import SGDClassifier\n",
    "import warnings\n",
    "warnings.filterwarnings(action=\"ignore\")\n",
    "\n",
    "from frouros.datasets.real import Elec2\n",
    "from frouros.supervised.ddm_based import DDM, DDMConfig"
   ]
  },
  {
   "cell_type": "markdown",
   "source": [
    "# Supervised - Simple\n",
    "\n",
    "Example of how to use the supervised method DDM {cite:p}`gama2004learning` without any helper class that interacts with the detector."
   ],
   "metadata": {
    "collapsed": false,
    "pycharm": {
     "name": "#%% md\n"
    }
   }
  },
  {
   "cell_type": "markdown",
   "source": [
    "In order to demonstrate a simple use case, we use some features of the normalized version of Elec2 {cite:p}`harries1999splice`. Unlike synthetic datasets, in real datasets is not possible to know for sure if and when drift occurs."
   ],
   "metadata": {
    "collapsed": false,
    "pycharm": {
     "name": "#%% md\n"
    }
   }
  },
  {
   "cell_type": "code",
   "execution_count": 52,
   "outputs": [
    {
     "name": "stderr",
     "output_type": "stream",
     "text": [
      "INFO:frouros:Trying to download data from https://nextcloud.ifca.es/index.php/s/2coqgBEpa82boLS/download to /tmp/tmp8jbe7scz\n"
     ]
    }
   ],
   "source": [
    "# Get Elec2 dataset and preprocess it\n",
    "elec2 = Elec2()\n",
    "elec2.download()\n",
    "data = elec2.load()\n",
    "X = np.array(data[[\"nswprice\", \"vicprice\", \"transfer\"]].tolist())\n",
    "y = np.array(data[[\"class\"]].tolist()).astype('str')\n",
    "# First 20000 samples are used as reference to fit the model\n",
    "split_idx = 20000\n",
    "X_ref, y_ref, X_test, y_test = X[:split_idx], y[:split_idx].ravel(), X[split_idx:], y[split_idx:]"
   ],
   "metadata": {
    "collapsed": false,
    "pycharm": {
     "name": "#%%\n"
    }
   }
  },
  {
   "cell_type": "markdown",
   "source": [
    "The following cell defines a scikit-learn estimator and the detector that uses the estimator. Subsequently the estimator that is inside the detector gets fitted."
   ],
   "metadata": {
    "collapsed": false,
    "pycharm": {
     "name": "#%% md\n"
    }
   }
  },
  {
   "cell_type": "code",
   "execution_count": 53,
   "outputs": [
    {
     "data": {
      "text/plain": "<frouros.supervised.ddm_based.ddm.DDM at 0x7f20cec97070>"
     },
     "execution_count": 53,
     "metadata": {},
     "output_type": "execute_result"
    }
   ],
   "source": [
    "# scikit-learn estimator\n",
    "estimator = SGDClassifier(loss=\"log_loss\",\n",
    "                          random_state=31,)\n",
    "# Detector configuration class\n",
    "config = DDMConfig(warning_level=2.0,\n",
    "                   drift_level=3.0,\n",
    "                   min_num_instances=2000,)\n",
    "# Detector with the scikit-learn estimator\n",
    "model_detector = DDM(estimator=estimator,\n",
    "                     config=config,)\n",
    "model_detector.fit(X=X_ref,\n",
    "                   y=y_ref,)"
   ],
   "metadata": {
    "collapsed": false,
    "pycharm": {
     "name": "#%%\n"
    }
   }
  },
  {
   "cell_type": "markdown",
   "source": [
    "A simulation of stream samples is performed using the test dataset until drift is detected. In each iteration the model performs a prediction that is compared with the ground-truth, resulting in an error value. This error value is used to update the detector. In order to check if drift is occurring, a status attribute can be acceded."
   ],
   "metadata": {
    "collapsed": false,
    "pycharm": {
     "name": "#%% md\n"
    }
   }
  },
  {
   "cell_type": "code",
   "execution_count": 54,
   "outputs": [
    {
     "name": "stdout",
     "output_type": "stream",
     "text": [
      "Drift detected at index 2800\n"
     ]
    }
   ],
   "source": [
    "# Simulate stream of samples\n",
    "for i, (X_sample, y_sample) in enumerate(zip(X_test, y_test)):\n",
    "    # Get predicted value\n",
    "    y_pred = model_detector.predict(X=X_sample.reshape(1, -1))\n",
    "    # Compute error to be used by the detector\n",
    "    error = int(y_sample != y_pred)\n",
    "    # Update detector with the error\n",
    "    model_detector.update(value=error)\n",
    "    # Obtain detector status\n",
    "    status = model_detector.status\n",
    "    if status[\"drift\"]:\n",
    "        print(f\"Drift detected at index {i}\")\n",
    "        break"
   ],
   "metadata": {
    "collapsed": false,
    "pycharm": {
     "name": "#%%\n"
    }
   }
  },
  {
   "cell_type": "markdown",
   "source": [
    "```{bibliography}\n",
    ":filter: docname in docnames\n",
    "```"
   ],
   "metadata": {
    "collapsed": false,
    "pycharm": {
     "name": "#%% md\n"
    }
   }
  }
 ],
 "metadata": {
  "kernelspec": {
   "display_name": "Python 3",
   "language": "python",
   "name": "python3"
  },
  "language_info": {
   "codemirror_mode": {
    "name": "ipython",
    "version": 2
   },
   "file_extension": ".py",
   "mimetype": "text/x-python",
   "name": "python",
   "nbconvert_exporter": "python",
   "pygments_lexer": "ipython2",
   "version": "2.7.6"
  }
 },
 "nbformat": 4,
 "nbformat_minor": 0
}