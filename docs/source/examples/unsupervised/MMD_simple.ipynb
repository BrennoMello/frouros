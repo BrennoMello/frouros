{
 "cells": [
  {
   "cell_type": "code",
   "execution_count": null,
   "outputs": [],
   "source": [
    "import matplotlib.pyplot as plt\n",
    "import numpy as np\n",
    "from scipy.spatial.distance import pdist\n",
    "from scipy.stats import multivariate_normal\n",
    "from sklearn.gaussian_process.kernels import RBF\n",
    "\n",
    "from frouros.unsupervised.distance_based import MMD"
   ],
   "metadata": {
    "collapsed": false,
    "pycharm": {
     "name": "#%%\n"
    }
   }
  },
  {
   "cell_type": "markdown",
   "source": [
    "## Unsupervised - Two bivariate normal distributions"
   ],
   "metadata": {
    "collapsed": false,
    "pycharm": {
     "name": "#%% md\n"
    }
   }
  },
  {
   "cell_type": "markdown",
   "source": [
    "In order to show a simple example of the detection of samples coming from different distributions, two bivariate normal distributions are defined.\n",
    "\n",
    "The first one is defined as follows:\n",
    "\n",
    "$$\n",
    "X \\sim \\mathcal{N_x}(\\mu_{x},\\textstyle\\sum_{\\ x}):\n",
    "\\; \\mu_{x} = \\begin{bmatrix}\n",
    "1 \\\\\n",
    "1\n",
    "\\end{bmatrix}\n",
    "\\land\n",
    "\\textstyle\\sum_{\\ x}\n",
    "= \\begin{bmatrix}\n",
    "2 & 0 \\\\\n",
    "0 & 2\n",
    "\\end{bmatrix}\n",
    "$$"
   ],
   "metadata": {
    "collapsed": false,
    "pycharm": {
     "name": "#%% md\n"
    }
   }
  },
  {
   "cell_type": "code",
   "execution_count": null,
   "outputs": [],
   "source": [
    "x_mean = np.ones(2)\n",
    "x_cov = 2*np.eye(2)\n",
    "print(f\"x_mean = {x_mean}\\nx_cov = {x_cov}\")"
   ],
   "metadata": {
    "collapsed": false,
    "pycharm": {
     "name": "#%%\n"
    }
   }
  },
  {
   "cell_type": "markdown",
   "source": [
    "While the second is defined as follows:\n",
    "\n",
    "$$\n",
    "Y \\sim \\mathcal{N_y}(\\mu_{y},\\textstyle\\sum_{\\ y}):\n",
    "\\; \\mu_{y} = \\begin{bmatrix}\n",
    "0 \\\\\n",
    "0\n",
    "\\end{bmatrix}\n",
    "\\land\n",
    "\\textstyle\\sum_{\\ y}\n",
    "= \\begin{bmatrix}\n",
    "2 & 1 \\\\\n",
    "1 & 2\n",
    "\\end{bmatrix}\n",
    "$$"
   ],
   "metadata": {
    "collapsed": false,
    "pycharm": {
     "name": "#%% md\n"
    }
   }
  },
  {
   "cell_type": "code",
   "execution_count": null,
   "outputs": [],
   "source": [
    "y_mean = np.zeros(2)\n",
    "y_cov = np.eye(2) + 1\n",
    "print(f\"y_mean = {y_mean}\\ny_cov = {y_cov}\")"
   ],
   "metadata": {
    "collapsed": false,
    "pycharm": {
     "name": "#%%\n"
    }
   }
  },
  {
   "cell_type": "markdown",
   "source": [
    "Some samples are generated for both distributions. $N_{x}$ samples will be used as reference, while $N_{y}$ samples will be used to test."
   ],
   "metadata": {
    "collapsed": false,
    "pycharm": {
     "name": "#%% md\n"
    }
   }
  },
  {
   "cell_type": "code",
   "execution_count": null,
   "outputs": [],
   "source": [
    "np.random.seed(31)\n",
    "\n",
    "num_samples = 200\n",
    "\n",
    "X_ref = np.random.multivariate_normal(x_mean, x_cov, num_samples)\n",
    "X_test = np.random.multivariate_normal(y_mean, y_cov, num_samples)"
   ],
   "metadata": {
    "collapsed": false,
    "pycharm": {
     "name": "#%%\n"
    }
   }
  },
  {
   "cell_type": "markdown",
   "source": [
    "The Hypothesis Test can be defined as follows:\n",
    "\n",
    "$$\n",
    "H_{0} : N_{x} = N_{y}\\\\\n",
    "H_{1} : N_{x} \\neq N_{y}\n",
    "$$\n",
    "\n",
    "with a significance level of $\\alpha = 0.01$."
   ],
   "metadata": {
    "collapsed": false,
    "pycharm": {
     "name": "#%% md\n"
    }
   }
  },
  {
   "cell_type": "code",
   "execution_count": null,
   "outputs": [],
   "source": [
    "alpha = 0.01"
   ],
   "metadata": {
    "collapsed": false,
    "pycharm": {
     "name": "#%%\n"
    }
   }
  },
  {
   "cell_type": "markdown",
   "source": [
    "In order the check if samples belong to the same distribution or not, Maximum Mean Discrepancy (MMD) {cite:p}`JMLR:v13:gretton12a` imported from Frouros is used with a Radial Basis Function kernel (RBF). In addition to calculating the corresponding MMD statistic, p-value is estimated using permutation test.\n",
    "According to {cite:p}`JMLR:v13:gretton12a`, the recommended value for $\\sigma$ using an RBF kernel is the median distance between points in the aggregate sample. Therefore, $\\sigma = \\dfrac{median(X)}{2}$, where $X$ is the combined sample from $N_{x}$ and $N_{y}$."
   ],
   "metadata": {
    "collapsed": false,
    "pycharm": {
     "name": "#%% md\n"
    }
   }
  },
  {
   "cell_type": "code",
   "execution_count": null,
   "outputs": [],
   "source": [
    "sigma = np.median(pdist(X=np.vstack((X_ref, X_test)), metric=\"euclidean\")) / 2\n",
    "sigma"
   ],
   "metadata": {
    "collapsed": false,
    "pycharm": {
     "name": "#%%\n"
    }
   }
  },
  {
   "cell_type": "markdown",
   "source": [
    "**Note**: $N_{y}$ samples cannot always be had before using the MMD fit, so $\\sigma$ would have to be selected in another way. In this case we assume that we have the $N_{y}$ samples at the same time as the $N_{x}$ samples."
   ],
   "metadata": {
    "collapsed": false,
    "pycharm": {
     "name": "#%% md\n"
    }
   }
  },
  {
   "cell_type": "code",
   "execution_count": null,
   "outputs": [],
   "source": [
    "detector = MMD(num_permutations=1000, kernel=RBF(length_scale=sigma), random_state=31)\n",
    "detector.fit(X=X_ref)\n",
    "detector.transform(X=X_test)\n",
    "mmd, p_value = detector.distance"
   ],
   "metadata": {
    "collapsed": false,
    "pycharm": {
     "name": "#%%\n"
    }
   }
  },
  {
   "cell_type": "code",
   "execution_count": null,
   "outputs": [],
   "source": [
    "print(f\"MMD statistic={round(mmd, 3)}, p-value={round(p_value, 3)}\")\n",
    "if p_value < alpha:\n",
    "    print(\"Drift detected. We can reject H0, so both samples come from different distributions.\")\n",
    "else:\n",
    "    print(\"No drift detected. We fail to reject H0, so both samples come from the same distribution.\")"
   ],
   "metadata": {
    "collapsed": false,
    "pycharm": {
     "name": "#%%\n"
    }
   }
  },
  {
   "cell_type": "markdown",
   "source": [
    "Finally, we can visualize both samples with their respective distributions."
   ],
   "metadata": {
    "collapsed": false,
    "pycharm": {
     "name": "#%% md\n"
    }
   }
  },
  {
   "cell_type": "code",
   "execution_count": null,
   "outputs": [],
   "source": [
    "fig, (ax1, ax2) = plt.subplots(nrows=1, ncols=2, figsize=(8, 4), dpi=600)\n",
    "\n",
    "x1_ref_min, x2_ref_min = X_ref.min(axis=0)\n",
    "x1_test_min, x2_test_min = X_test.min(axis=0)\n",
    "\n",
    "x1_ref_max, x2_ref_max = X_ref.max(axis=0)\n",
    "x1_test_max, x2_test_max = X_test.max(axis=0)\n",
    "\n",
    "x_min = np.floor(np.min([x1_ref_min, x1_test_min, x2_ref_min, x2_test_min]))\n",
    "x_max = np.ceil(np.max([x1_ref_max, x1_test_max, x2_ref_max, x2_test_max]))\n",
    "x_max = x_max if x_min != x_max else x_max + 1\n",
    "\n",
    "x1_val = np.linspace(x_min, x_max, num=num_samples)\n",
    "x2_val = np.linspace(x_min, x_max, num=num_samples)\n",
    "\n",
    "x1, x2 = np.meshgrid(x1_val, x2_val)\n",
    "\n",
    "px_grid = np.zeros((num_samples, num_samples))\n",
    "qy_grid = np.zeros((num_samples, num_samples))\n",
    "\n",
    "for i in range(num_samples):\n",
    "    for j in range(num_samples):\n",
    "        px_grid[i, j] = multivariate_normal.pdf([x1_val[i], x2_val[j]], x_mean, x_cov)\n",
    "        qy_grid[i, j] = multivariate_normal.pdf([x1_val[i], x2_val[j]], y_mean, y_cov)\n",
    "\n",
    "marker = \"o\"\n",
    "facecolor = \"r\"\n",
    "edgecolor = \"k\"\n",
    "alpha = 0.7\n",
    "marker_size = 20\n",
    "\n",
    "CS1 = ax1.contourf(x1, x2, px_grid)\n",
    "ax1.set_title(\"Distribution of $X \\sim N_{x}(\\mu_{x}, \\sum_{\\qquad x})$\", pad=15)\n",
    "ax1.set_ylabel('$x_2$')\n",
    "ax1.set_xlabel('$x_1$')\n",
    "ax1.set_aspect('equal')\n",
    "ax1.scatter(X_ref[:, 0], X_ref[:, 1],\n",
    "            label=\"$X$ samples\",\n",
    "            marker=marker,\n",
    "            facecolor=facecolor,\n",
    "            edgecolor=edgecolor,\n",
    "            alpha=alpha,\n",
    "            s=marker_size)\n",
    "ax1.legend(fontsize=7)\n",
    "\n",
    "CS2 = ax2.contourf(x1, x2, qy_grid)\n",
    "ax2.set_title(\"Distribution of $Y \\sim N_{y}(\\mu_{y}, \\sum_{\\qquad y})$\", pad=15)\n",
    "ax2.set_xlabel('$y_1$')\n",
    "ax2.set_ylabel('$y_2$')\n",
    "ax2.set_aspect('equal')\n",
    "ax2.scatter(X_test[:, 0], X_test[:, 1],\n",
    "            label=\"$Y$ samples\",\n",
    "            marker=marker,\n",
    "            facecolor=facecolor,\n",
    "            edgecolor=edgecolor,\n",
    "            alpha=alpha,\n",
    "            s=marker_size)\n",
    "ax2.legend(fontsize=7)\n",
    "\n",
    "fig.subplots_adjust(right=0.8,\n",
    "                    wspace=0.245)\n",
    "cbar_ax = fig.add_axes([0.85, 0.15, 0.02, 0.7])\n",
    "cbar = fig.colorbar(CS2, cax=cbar_ax)\n",
    "cbar.ax.set_ylabel('Density')\n",
    "plt.suptitle(f\"MMD statistic={round(mmd, 3)}, p-value={round(p_value, 3)}\", y=0.98, fontweight=\"bold\")\n",
    "plt.show()"
   ],
   "metadata": {
    "collapsed": false,
    "pycharm": {
     "name": "#%%\n"
    }
   }
  },
  {
   "cell_type": "markdown",
   "source": [
    "```{bibliography}\n",
    ":filter: docname in docnames\n",
    "```"
   ],
   "metadata": {
    "collapsed": false,
    "pycharm": {
     "name": "#%% md\n"
    }
   }
  },
  {
   "cell_type": "markdown",
   "source": [],
   "metadata": {
    "collapsed": false,
    "pycharm": {
     "name": "#%% md\n"
    }
   }
  }
 ],
 "metadata": {
  "kernelspec": {
   "display_name": "Python 3",
   "language": "python",
   "name": "python3"
  },
  "language_info": {
   "codemirror_mode": {
    "name": "ipython",
    "version": 2
   },
   "file_extension": ".py",
   "mimetype": "text/x-python",
   "name": "python",
   "nbconvert_exporter": "python",
   "pygments_lexer": "ipython2",
   "version": "2.7.6"
  }
 },
 "nbformat": 4,
 "nbformat_minor": 0
}