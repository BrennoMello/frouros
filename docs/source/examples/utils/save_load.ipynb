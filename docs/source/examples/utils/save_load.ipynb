{
 "cells": [
  {
   "cell_type": "code",
   "execution_count": 1,
   "id": "initial_id",
   "metadata": {
    "ExecuteTime": {
     "end_time": "2024-03-02T20:08:36.559538Z",
     "start_time": "2024-03-02T20:08:35.785936Z"
    },
    "collapsed": true
   },
   "outputs": [],
   "source": [
    "from functools import partial\n",
    "\n",
    "import numpy as np\n",
    "from scipy.spatial.distance import pdist\n",
    "\n",
    "from frouros.callbacks import PermutationTestDistanceBased\n",
    "from frouros.detectors.data_drift import MMD\n",
    "from frouros.utils import load, save\n",
    "from frouros.utils.kernels import rbf_kernel"
   ]
  },
  {
   "cell_type": "markdown",
   "id": "e3f1ddf0540a9259",
   "metadata": {
    "collapsed": false
   },
   "source": [
    "# Save and Load detector\n",
    "\n",
    "In this example, we will demonstrate how to save and load a detector. We will use the MMD detector and the permutation test callback. We will first fit the detector and then compare two datasets. We will then save the detector to a file and load it back. We will then compare the same two datasets and assert that the distance and p-value are the same before and after saving and loading the detector."
   ]
  },
  {
   "cell_type": "markdown",
   "id": "4df73e55d7d353bb",
   "metadata": {
    "collapsed": false
   },
   "source": [
    "## Set random seed\n",
    "\n",
    "We will set the random seed to ensure reproducibility."
   ]
  },
  {
   "cell_type": "code",
   "execution_count": 2,
   "id": "f913c4fc44d511f7",
   "metadata": {
    "ExecuteTime": {
     "end_time": "2024-03-02T20:08:36.567956Z",
     "start_time": "2024-03-02T20:08:36.561066Z"
    },
    "collapsed": false
   },
   "outputs": [],
   "source": [
    "seed = 31\n",
    "np.random.seed(seed)"
   ]
  },
  {
   "cell_type": "markdown",
   "id": "b08089f5ccf0f4d1",
   "metadata": {
    "collapsed": false
   },
   "source": [
    "## Generate data\n",
    "\n",
    "We will generate two datasets. The first dataset will be generated from a multivariate normal distribution with mean [0, 0] and covariance matrix [[1, 0], [0, 1]]. The second dataset will be generated from a multivariate normal distribution with mean [1, 0] and covariance matrix [[1, 0], [0, 2]]."
   ]
  },
  {
   "cell_type": "code",
   "execution_count": 3,
   "id": "188b82ee45c1a092",
   "metadata": {
    "ExecuteTime": {
     "end_time": "2024-03-02T20:08:36.583840Z",
     "start_time": "2024-03-02T20:08:36.570122Z"
    },
    "collapsed": false
   },
   "outputs": [],
   "source": [
    "num_samples = 100\n",
    "\n",
    "x_mean = [0, 0]\n",
    "x_cov = [\n",
    "    [1, 0],\n",
    "    [0, 1],\n",
    "]\n",
    "\n",
    "y_mean = [1, 0]\n",
    "y_cov = [\n",
    "    [1, 0],\n",
    "    [0, 2],\n",
    "]\n",
    "\n",
    "X_ref = np.random.multivariate_normal(\n",
    "    mean=x_mean,\n",
    "    cov=x_cov,\n",
    "    size=num_samples,\n",
    ")\n",
    "X_test = np.random.multivariate_normal(\n",
    "    mean=y_mean,\n",
    "    cov=y_cov,\n",
    "    size=num_samples,\n",
    ")"
   ]
  },
  {
   "cell_type": "markdown",
   "id": "dd7dd35a96e1651a",
   "metadata": {
    "collapsed": false
   },
   "source": [
    "## Fit detector\n",
    "\n",
    "We will fit the detector using the reference dataset."
   ]
  },
  {
   "cell_type": "code",
   "execution_count": 4,
   "id": "23fac866bcd656ee",
   "metadata": {
    "ExecuteTime": {
     "end_time": "2024-03-02T20:08:36.599907Z",
     "start_time": "2024-03-02T20:08:36.584853Z"
    },
    "collapsed": false
   },
   "outputs": [
    {
     "data": {
      "text/plain": "1.5941478725484344"
     },
     "execution_count": 4,
     "metadata": {},
     "output_type": "execute_result"
    }
   ],
   "source": [
    "sigma = np.median(\n",
    "    pdist(\n",
    "        X=X_ref,\n",
    "        metric=\"euclidean\",\n",
    "    ),\n",
    ")\n",
    "sigma"
   ]
  },
  {
   "cell_type": "code",
   "execution_count": 5,
   "id": "3bf7b070454ba708",
   "metadata": {
    "ExecuteTime": {
     "end_time": "2024-03-02T20:08:36.615923Z",
     "start_time": "2024-03-02T20:08:36.603076Z"
    },
    "collapsed": false
   },
   "outputs": [],
   "source": [
    "detector = MMD(\n",
    "    kernel=partial(\n",
    "        rbf_kernel,\n",
    "        sigma=sigma,\n",
    "    ),\n",
    "    callbacks=PermutationTestDistanceBased(\n",
    "        num_permutations=100,\n",
    "        num_jobs=-1,\n",
    "        method=\"exact\",\n",
    "        random_state=seed,\n",
    "        name=\"permutation_test\",\n",
    "    ),\n",
    ")\n",
    "\n",
    "_ = detector.fit(\n",
    "    X=X_ref,\n",
    ")"
   ]
  },
  {
   "cell_type": "markdown",
   "id": "ca0bee617c055e14",
   "metadata": {
    "collapsed": false
   },
   "source": [
    "## Compare datasets before saving\n",
    "\n",
    "We will compare the reference and test datasets."
   ]
  },
  {
   "cell_type": "code",
   "execution_count": 6,
   "id": "c1f670b30658a751",
   "metadata": {
    "ExecuteTime": {
     "end_time": "2024-03-02T20:08:39.021802Z",
     "start_time": "2024-03-02T20:08:36.616944Z"
    },
    "collapsed": false
   },
   "outputs": [
    {
     "name": "stdout",
     "output_type": "stream",
     "text": [
      "Distance: 0.14644993, p-value: 0.00990049\n"
     ]
    }
   ],
   "source": [
    "distance, callback_logs = detector.compare(\n",
    "    X=X_test,\n",
    ")\n",
    "before_save_distance = distance.distance\n",
    "before_save_p_value = callback_logs[\"permutation_test\"][\"p_value\"]\n",
    "print(f\"Distance: {before_save_distance:.8f}, p-value: {before_save_p_value:.8f}\")"
   ]
  },
  {
   "cell_type": "markdown",
   "id": "4dad43da2f94c1ec",
   "metadata": {
    "collapsed": false
   },
   "source": [
    "## Save and Load detector\n",
    "\n",
    "We will save the detector to a file and load it back."
   ]
  },
  {
   "cell_type": "code",
   "execution_count": 7,
   "id": "d0aa212a9e91de5c",
   "metadata": {
    "ExecuteTime": {
     "end_time": "2024-03-02T20:08:39.037744Z",
     "start_time": "2024-03-02T20:08:39.024229Z"
    },
    "collapsed": false
   },
   "outputs": [],
   "source": [
    "save(\n",
    "    obj=detector,\n",
    "    filename=\"detector.pkl\",\n",
    ")\n",
    "\n",
    "detector = load(\n",
    "    filename=\"detector.pkl\",\n",
    ")"
   ]
  },
  {
   "cell_type": "markdown",
   "id": "97d354f3aaf7f555",
   "metadata": {
    "collapsed": false
   },
   "source": [
    "## Compare datasets after loading\n",
    "\n",
    "We will compare the reference and test datasets again."
   ]
  },
  {
   "cell_type": "code",
   "execution_count": 8,
   "id": "a681537ba868af6b",
   "metadata": {
    "ExecuteTime": {
     "end_time": "2024-03-02T20:08:41.628646Z",
     "start_time": "2024-03-02T20:08:39.038798Z"
    },
    "collapsed": false
   },
   "outputs": [
    {
     "name": "stdout",
     "output_type": "stream",
     "text": [
      "Distance: 0.14644993, p-value: 0.00990049\n"
     ]
    }
   ],
   "source": [
    "distance, callback_logs = detector.compare(\n",
    "    X=X_test,\n",
    ")\n",
    "after_save_distance = distance.distance\n",
    "after_save_p_value = callback_logs[\"permutation_test\"][\"p_value\"]\n",
    "print(f\"Distance: {after_save_distance:.8f}, p-value: {after_save_p_value:.8f}\")"
   ]
  },
  {
   "cell_type": "markdown",
   "id": "3a81841ec13cc881",
   "metadata": {
    "collapsed": false
   },
   "source": [
    "Assert that the distance and p-value are the same before and after saving and loading the detector."
   ]
  },
  {
   "cell_type": "code",
   "execution_count": 9,
   "id": "1a7e98cb985f2e5b",
   "metadata": {
    "ExecuteTime": {
     "end_time": "2024-03-02T20:08:41.644471Z",
     "start_time": "2024-03-02T20:08:41.629678Z"
    },
    "collapsed": false
   },
   "outputs": [],
   "source": [
    "assert before_save_distance == after_save_distance\n",
    "assert before_save_p_value == after_save_p_value"
   ]
  }
 ],
 "metadata": {
  "kernelspec": {
   "display_name": "Python 3",
   "language": "python",
   "name": "python3"
  },
  "language_info": {
   "codemirror_mode": {
    "name": "ipython",
    "version": 2
   },
   "file_extension": ".py",
   "mimetype": "text/x-python",
   "name": "python",
   "nbconvert_exporter": "python",
   "pygments_lexer": "ipython2",
   "version": "2.7.6"
  }
 },
 "nbformat": 4,
 "nbformat_minor": 5
}
